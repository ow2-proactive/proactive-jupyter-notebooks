{
 "cells": [
  {
   "cell_type": "markdown",
   "metadata": {},
   "source": [
    "### Import libraries"
   ]
  },
  {
   "cell_type": "code",
   "execution_count": null,
   "metadata": {},
   "outputs": [],
   "source": [
    "import os\n",
    "import getpass\n",
    "import proactive"
   ]
  },
  {
   "cell_type": "markdown",
   "metadata": {},
   "source": [
    "### Creating the gateway"
   ]
  },
  {
   "cell_type": "code",
   "execution_count": null,
   "metadata": {},
   "outputs": [],
   "source": [
    "print(\"Logging on proactive-server 1...\")\n",
    "proactive_host = 'try.activeeon.com'\n",
    "proactive_port = '8080'\n",
    "proactive_url  = \"http://\"+proactive_host+\":\"+proactive_port\n",
    "print(\"Creating gateway \")\n",
    "gateway = proactive.ProActiveGateway(proactive_url, debug=False)\n",
    "print(\"Gateway created\")"
   ]
  },
  {
   "cell_type": "markdown",
   "metadata": {},
   "source": [
    "### Connecting"
   ]
  },
  {
   "cell_type": "code",
   "execution_count": null,
   "metadata": {},
   "outputs": [],
   "source": [
    "print(\"Connecting on: \" + proactive_url)\n",
    "gateway.connect(username=\"YOUR_LOGIN\", password=\"YOUR_PASSWORD\")  # put your login here!\n",
    "# Or uncomment the following line to protect your password\n",
    "# gateway.connect(username=\"\", password=getpass.getpass(prompt='Password: '))\n",
    "assert gateway.isConnected() is True\n",
    "print(\"Connected\")"
   ]
  },
  {
   "cell_type": "markdown",
   "metadata": {},
   "source": [
    "### Creating the _init_ task"
   ]
  },
  {
   "cell_type": "code",
   "execution_count": null,
   "metadata": {},
   "outputs": [],
   "source": [
    "print(\"Creating the initialization task...\")\n",
    "init_task = gateway.createPythonTask()\n",
    "init_task.setTaskName(\"init\")\n",
    "init_task.setTaskImplementation(\"\"\"import os\n",
    "pid = os.getpid()\n",
    "print('Process ' + str(pid) + ': Initialization phase')\n",
    "a = 2\n",
    "b = 3\n",
    "variables.put(\"a\", a)\n",
    "variables.put(\"b\", b)\"\"\")\n",
    "print(\"Task created.\")"
   ]
  },
  {
   "cell_type": "markdown",
   "metadata": {},
   "source": [
    "### Creating _calculation_ task"
   ]
  },
  {
   "cell_type": "code",
   "execution_count": null,
   "metadata": {},
   "outputs": [],
   "source": [
    "print(\"Creating the initialization task...\")\n",
    "calculation_task = gateway.createPythonTask()\n",
    "calculation_task.setTaskName(\"calculation\")\n",
    "calculation_task.setTaskImplementation(\"\"\"import os\n",
    "a = variables.get(\"a\")\n",
    "b = variables.get(\"b\")\n",
    "pid = os.getpid()\n",
    "print('Process ' + str(pid) + ': Calculation phase')\n",
    "print('Recieved a = ' + str(a))\n",
    "print('Recieved b = ' + str(b))\n",
    "c = a + b\n",
    "print('Sum = ' + str(c))\"\"\")\n",
    "calculation_task.addDependency(init_task)\n",
    "print(\"Task created.\")"
   ]
  },
  {
   "cell_type": "markdown",
   "metadata": {},
   "source": [
    "### Creating the workflow"
   ]
  },
  {
   "cell_type": "code",
   "execution_count": null,
   "metadata": {},
   "outputs": [],
   "source": [
    "print(\"Creating a proactive job...\")\n",
    "proactive_job = gateway.createJob()\n",
    "proactive_job.setJobName(\"PythonPidWorkflow\")\n",
    "print(\"Job created.\")"
   ]
  },
  {
   "cell_type": "markdown",
   "metadata": {},
   "source": [
    "### Adding tasks to the workflow"
   ]
  },
  {
   "cell_type": "code",
   "execution_count": null,
   "metadata": {},
   "outputs": [],
   "source": [
    "print(\"Adding tasks to the job...\")\n",
    "proactive_job.addTask(init_task)\n",
    "proactive_job.addTask(calculation_task)\n",
    "print(\"Tasks added.\")"
   ]
  },
  {
   "cell_type": "markdown",
   "metadata": {},
   "source": [
    "### Submitting the job to the scheduler"
   ]
  },
  {
   "cell_type": "code",
   "execution_count": null,
   "metadata": {},
   "outputs": [],
   "source": [
    "print(\"Submitting the job to the proactive scheduler...\")\n",
    "job_id = gateway.submitJob(proactive_job, debug=False)\n",
    "print(\"job_id: \" + str(job_id))"
   ]
  },
  {
   "cell_type": "markdown",
   "metadata": {},
   "source": [
    "### Getting job results and outputs"
   ]
  },
  {
   "cell_type": "code",
   "execution_count": null,
   "metadata": {},
   "outputs": [],
   "source": [
    "print(\"Getting job results...\")\n",
    "job_result = gateway.getJobResult(job_id)\n",
    "print(job_result)\n",
    "print(\"Getting job outputs...\")\n",
    "job_outputs = gateway.printJobOutput(job_id)\n",
    "print(job_outputs)"
   ]
  },
  {
   "cell_type": "markdown",
   "metadata": {},
   "source": [
    "### Disconnecting"
   ]
  },
  {
   "cell_type": "code",
   "execution_count": null,
   "metadata": {},
   "outputs": [],
   "source": [
    "print(\"Disconnecting\")\n",
    "gateway.disconnect()\n",
    "print(\"Disconnected\")\n",
    "gateway.terminate()\n",
    "print(\"Finished\")"
   ]
  },
  {
   "cell_type": "code",
   "execution_count": null,
   "metadata": {},
   "outputs": [],
   "source": []
  }
 ],
 "metadata": {
  "kernelspec": {
   "display_name": "Python 3",
   "language": "python",
   "name": "python3"
  },
  "language_info": {
   "codemirror_mode": {
    "name": "ipython",
    "version": 3
   },
   "file_extension": ".py",
   "mimetype": "text/x-python",
   "name": "python",
   "nbconvert_exporter": "python",
   "pygments_lexer": "ipython3",
   "version": "3.7.3"
  },
  "pycharm": {
   "stem_cell": {
    "cell_type": "raw",
    "metadata": {
     "collapsed": false
    },
    "source": []
   }
  }
 },
 "nbformat": 4,
 "nbformat_minor": 4
}
