{
 "cells": [
  {
   "cell_type": "markdown",
   "metadata": {},
   "source": [
    "## 1. Connection"
   ]
  },
  {
   "cell_type": "code",
   "execution_count": 1,
   "metadata": {},
   "outputs": [
    {
     "name": "stdin",
     "output_type": "stream",
     "text": [
      "Login:  admin\n",
      "Password:  ············\n"
     ]
    },
    {
     "name": "stdout",
     "output_type": "stream",
     "text": [
      "Connecting to server ...\n",
      "Connected as 'admin'!\n"
     ]
    }
   ],
   "source": [
    "#%connect(url=https://try.activeeon.com:8443)"
   ]
  },
  {
   "cell_type": "markdown",
   "metadata": {},
   "source": [
    "## 2. Runtime environment definition"
   ]
  },
  {
   "cell_type": "code",
   "execution_count": 2,
   "metadata": {},
   "outputs": [
    {
     "name": "stdout",
     "output_type": "stream",
     "text": [
      "Saving the runtime environment ...\n",
      "Done.\n"
     ]
    }
   ],
   "source": [
    "#%runtime_env(type=docker,image=activeeon/dlm3,mount_host_path=/shared,mount_container_path=/shared,debug=false,verbose=false,force=off)"
   ]
  },
  {
   "cell_type": "markdown",
   "metadata": {},
   "source": [
    "## 3. Importing libraries"
   ]
  },
  {
   "cell_type": "code",
   "execution_count": 3,
   "metadata": {},
   "outputs": [
    {
     "name": "stdout",
     "output_type": "stream",
     "text": [
      "Saving 'Python' imports ...\n",
      "Saved.\n"
     ]
    }
   ],
   "source": [
    "#%import()\n",
    "import json\n",
    "import numpy as np\n",
    "import pandas as pd\n",
    "import pickle\n",
    "import bz2\n",
    "import random\n",
    "\n",
    "from sklearn.ensemble import RandomForestClassifier\n",
    "from sklearn.model_selection import RandomizedSearchCV, cross_val_score, KFold\n",
    "from scipy.stats import uniform\n",
    "\n",
    "from pathlib import Path"
   ]
  },
  {
   "cell_type": "markdown",
   "metadata": {},
   "source": [
    "## 4. Creating workflow tasks"
   ]
  },
  {
   "cell_type": "markdown",
   "metadata": {},
   "source": [
    "### 4.1 Creating the _import_data_ task"
   ]
  },
  {
   "cell_type": "code",
   "execution_count": 4,
   "metadata": {},
   "outputs": [
    {
     "name": "stdout",
     "output_type": "stream",
     "text": [
      "Creating a proactive 'Python' task ...\n",
      "Task 'import_data' created.\n",
      "Adding default selection script to the proactive task ...\n",
      "Adding job fork environment to the proactive task ...\n",
      "Adding exporting variables script ...\n",
      "Adding 'Python' library imports ...\n",
      "Done.\n"
     ]
    }
   ],
   "source": [
    "#%task(name=import_data,export=[dataframe_json])\n",
    "dataset_url = \"https://activeeon-public.s3.eu-west-2.amazonaws.com/datasets/vehicle_silhouette_weka_dataset.csv\"\n",
    "dataframe = pd.read_csv(dataset_url)\n",
    "\n",
    "dataframe_json = dataframe.to_json(orient='split').encode()\n",
    "compressed_data = bz2.compress(dataframe_json)"
   ]
  },
  {
   "cell_type": "markdown",
   "metadata": {},
   "source": [
    "### 4.2 Creating the _model_training_ task "
   ]
  },
  {
   "cell_type": "code",
   "execution_count": 5,
   "metadata": {},
   "outputs": [
    {
     "name": "stdout",
     "output_type": "stream",
     "text": [
      "WARNING: Task 'model_training' already exists ...\n",
      "Changing script language to 'Python' ...\n",
      "Adding job fork environment to the proactive task ...\n",
      "Dependence 'import_data'==>'model_training' added.\n",
      "Adding importing variables script ...\n",
      "Adding 'Python' library imports ...\n",
      "Done.\n"
     ]
    }
   ],
   "source": [
    "#%task(name=model_training,dep=[import_data],import=[dataframe_json])\n",
    "dataframe = pd.read_json(dataframe_json, orient='split')\n",
    "\n",
    "label_column = \"vehicle_class\"\n",
    "dataframe_train = dataframe.drop(label_column, axis=1, inplace=False)\n",
    "dataframe_label = dataframe[label_column]\n",
    "\n",
    "# Set up the Random Forest algorithm\n",
    "model = RandomForestClassifier(random_state=random.randint(0,9), n_estimators=25, max_features=6)\n",
    "\n",
    "alg_name = str(model)\n",
    "alg_name = alg_name[:alg_name.find('(')]\n",
    "\n",
    "# Perform model training\n",
    "print(alg_name, \" model training...\")\n",
    "model.fit(dataframe_train, dataframe_label)\n",
    "\n",
    "# Perform cross validation\n",
    "print(alg_name, \" performing cv...\")\n",
    "cv = KFold(n_splits=10, shuffle=True, random_state=random.randint(0,9))\n",
    "scores = cross_val_score(model, X=dataframe_train, y=dataframe_label, cv=cv)\n",
    "print(\"{} average of {:6f} with std. dev. of {:6f}.\".format(alg_name, scores.mean(), scores.std()))\n",
    "\n",
    "# Save the model to disk\n",
    "filename = 'models/' + alg_name + '.model'\n",
    "if 'variables' in globals():\n",
    "    PA_JOB_ID = int(variables.get(\"PA_JOB_ID\"))\n",
    "    MODELS_BASE_PATH = '/shared/models/job_id_'+str(PA_JOB_ID)\n",
    "    Path(MODELS_BASE_PATH).mkdir(parents=True, exist_ok=True)\n",
    "    filename = MODELS_BASE_PATH + '/' + alg_name + '.model'\n",
    "    variables.put(\"MODEL_FILE_PATH\", filename)\n",
    "pickle.dump(model, open(filename, 'wb'))\n",
    "print(alg_name, \" stored model at \", filename)"
   ]
  },
  {
   "cell_type": "markdown",
   "metadata": {},
   "source": [
    "### 5. Visualizing the job pipeline"
   ]
  },
  {
   "cell_type": "code",
   "execution_count": 6,
   "metadata": {},
   "outputs": [
    {
     "name": "stdout",
     "output_type": "stream",
     "text": [
      "Plotting ...\n"
     ]
    },
    {
     "data": {
      "image/png": "[encoded data removed]"
     },
     "metadata": {},
     "output_type": "display_data"
    }
   ],
   "source": [
    "#%draw_job()"
   ]
  },
  {
   "cell_type": "markdown",
   "metadata": {},
   "source": [
    "### 6. Submitting the job to the scheduler"
   ]
  },
  {
   "cell_type": "code",
   "execution_count": 7,
   "metadata": {},
   "outputs": [
    {
     "name": "stdout",
     "output_type": "stream",
     "text": [
      "Re-creating the proactive job due to tasks changes ...\n",
      "Saving job variables and generic information ...\n",
      "Job 'ML_Pipeline_Model_Training' created.\n",
      "Adding the created tasks to 'ML_Pipeline_Model_Training' ...\n",
      "Adding generic information ...\n",
      "Adding variables ...\n",
      "Done.\n",
      "Submitting the job to the proactive scheduler ...\n",
      "job_id: 1\n"
     ]
    }
   ],
   "source": [
    "#%submit_job(name=ML_Pipeline_Model_Training)"
   ]
  },
  {
   "cell_type": "markdown",
   "metadata": {},
   "source": [
    "*Generated workflow after job submission*\n",
    "\n",
    "<img src=\"images/workflow_model_training.png\" alt=\"drawing\" style=\"width:250px;\"/>"
   ]
  },
  {
   "cell_type": "markdown",
   "metadata": {},
   "source": [
    "### 7. Getting results and outputs "
   ]
  },
  {
   "cell_type": "code",
   "execution_count": 8,
   "metadata": {},
   "outputs": [
    {
     "name": "stdout",
     "output_type": "stream",
     "text": [
      "Getting job 1 console outputs ...\n",
      "Outputs:\n",
      "\n",
      "RandomForestClassifier  model training...\n",
      "RandomForestClassifier  performing cv...\n",
      "RandomForestClassifier  average of 0.748333 with std. dev. of 0.041873.\n",
      "RandomForestClassifier  stored model at  /shared/models/job_id_1/RandomForestClassifier.model"
     ]
    }
   ],
   "source": [
    "#%print_job_output"
   ]
  }
 ],
 "metadata": {
  "kernelspec": {
   "display_name": "ProActive",
   "language": "python",
   "name": "proactive"
  },
  "language_info": {
   "codemirror_mode": "python",
   "file_extension": ".py",
   "mimetype": "text/x-python",
   "name": "python"
  }
 },
 "nbformat": 4,
 "nbformat_minor": 4
}
