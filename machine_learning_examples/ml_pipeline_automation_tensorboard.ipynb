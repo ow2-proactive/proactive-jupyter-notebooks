{
 "cells": [
  {
   "cell_type": "markdown",
   "metadata": {},
   "source": [
    "# Machine Learning Pipeline with Proactive Jupyter Kernel and Tensorboard"
   ]
  },
  {
   "cell_type": "markdown",
   "metadata": {},
   "source": [
    "The purpose of this notebook is to search for the best machine learning model able to classify a given silhouette as one of four types of vehicle, using a set of features extracted from the silhouette. The vehicle may be viewed from one of many different angles. This object recognition strategy was successfully used to discriminate between silhouettes of model cars, vans and buses viewed from constrained elevation but all angles of rotation. Link address to the original dataset: https://archive.ics.uci.edu/ml/datasets/Statlog+(Vehicle+Silhouettes)"
   ]
  },
  {
   "cell_type": "markdown",
   "metadata": {},
   "source": [
    "![alt text](images/vehicle_silhouette.png \"Title\")"
   ]
  },
  {
   "cell_type": "markdown",
   "metadata": {},
   "source": [
    "#### Dataset description\n",
    "The features were extracted from the silhouettes by the HIPS (Hierarchical Image Processing System) extension BINATTS, which extracts a combination of scale independent features utilising both classical moments based measures such as scaled variance, skewness and kurtosis about the major/minor axes and heuristic measures such as hollows, circularity, rectangularity and compactness.\n",
    "\n",
    "Four \"Corgie\" model vehicles were used for the experiment: a double decker bus, Cheverolet van, Saab 9000 and an Opel Manta 400. This particular combination of vehicles was chosen with the expectation that the bus, van and either one of the cars would be readily distinguishable, but it would be more difficult to distinguish between the cars.\n",
    "\n",
    "#### Problem statement\n",
    "The objective is to classify a given silhouette as one of three types of vehicle, using a set of features extracted from the silhouette. The vehicle may be viewed from one of many different angles."
   ]
  },
  {
   "cell_type": "code",
   "execution_count": null,
   "metadata": {},
   "outputs": [
    {
     "data": {
      "text/html": [
       "<div>\n",
       "<style scoped>\n",
       "    .dataframe tbody tr th:only-of-type {\n",
       "        vertical-align: middle;\n",
       "    }\n",
       "\n",
       "    .dataframe tbody tr th {\n",
       "        vertical-align: top;\n",
       "    }\n",
       "\n",
       "    .dataframe thead th {\n",
       "        text-align: right;\n",
       "    }\n",
       "</style>\n",
       "<table border=\"1\" class=\"dataframe\">\n",
       "  <thead>\n",
       "    <tr style=\"text-align: right;\">\n",
       "      <th></th>\n",
       "      <th>compactness</th>\n",
       "      <th>circularity</th>\n",
       "      <th>distance_circularity</th>\n",
       "      <th>radius_ratio</th>\n",
       "      <th>pr_axis_aspect_ratio</th>\n",
       "      <th>max_length_aspect_ratio</th>\n",
       "      <th>scatter_ratio</th>\n",
       "      <th>elongatedness</th>\n",
       "      <th>pr_axis_rectangularity</th>\n",
       "      <th>max_length_rectangularity</th>\n",
       "      <th>scaled_variance_major_axis</th>\n",
       "      <th>scaled_variance_minor_axis</th>\n",
       "      <th>scaled_radius_gyration</th>\n",
       "      <th>skewness_major_axis</th>\n",
       "      <th>skewness_minor_axis</th>\n",
       "      <th>kurtosis_minor_axis</th>\n",
       "      <th>kurtosis_major_axis</th>\n",
       "      <th>hollows_ratio</th>\n",
       "      <th>vehicle_class</th>\n",
       "    </tr>\n",
       "  </thead>\n",
       "  <tbody>\n",
       "    <tr>\n",
       "      <th>0</th>\n",
       "      <td>95.0</td>\n",
       "      <td>48.0</td>\n",
       "      <td>83.0</td>\n",
       "      <td>178.0</td>\n",
       "      <td>72.0</td>\n",
       "      <td>10.0</td>\n",
       "      <td>162.0</td>\n",
       "      <td>42.0</td>\n",
       "      <td>20.0</td>\n",
       "      <td>159.0</td>\n",
       "      <td>176.0</td>\n",
       "      <td>379.0</td>\n",
       "      <td>184.0</td>\n",
       "      <td>70.0</td>\n",
       "      <td>6.0</td>\n",
       "      <td>16.0</td>\n",
       "      <td>187.0</td>\n",
       "      <td>197.0</td>\n",
       "      <td>van</td>\n",
       "    </tr>\n",
       "    <tr>\n",
       "      <th>1</th>\n",
       "      <td>91.0</td>\n",
       "      <td>41.0</td>\n",
       "      <td>84.0</td>\n",
       "      <td>141.0</td>\n",
       "      <td>57.0</td>\n",
       "      <td>9.0</td>\n",
       "      <td>149.0</td>\n",
       "      <td>45.0</td>\n",
       "      <td>19.0</td>\n",
       "      <td>143.0</td>\n",
       "      <td>170.0</td>\n",
       "      <td>330.0</td>\n",
       "      <td>158.0</td>\n",
       "      <td>72.0</td>\n",
       "      <td>9.0</td>\n",
       "      <td>14.0</td>\n",
       "      <td>189.0</td>\n",
       "      <td>199.0</td>\n",
       "      <td>van</td>\n",
       "    </tr>\n",
       "    <tr>\n",
       "      <th>2</th>\n",
       "      <td>104.0</td>\n",
       "      <td>50.0</td>\n",
       "      <td>106.0</td>\n",
       "      <td>209.0</td>\n",
       "      <td>66.0</td>\n",
       "      <td>10.0</td>\n",
       "      <td>207.0</td>\n",
       "      <td>32.0</td>\n",
       "      <td>23.0</td>\n",
       "      <td>158.0</td>\n",
       "      <td>223.0</td>\n",
       "      <td>635.0</td>\n",
       "      <td>220.0</td>\n",
       "      <td>73.0</td>\n",
       "      <td>14.0</td>\n",
       "      <td>9.0</td>\n",
       "      <td>188.0</td>\n",
       "      <td>196.0</td>\n",
       "      <td>saab</td>\n",
       "    </tr>\n",
       "    <tr>\n",
       "      <th>3</th>\n",
       "      <td>93.0</td>\n",
       "      <td>41.0</td>\n",
       "      <td>82.0</td>\n",
       "      <td>159.0</td>\n",
       "      <td>63.0</td>\n",
       "      <td>9.0</td>\n",
       "      <td>144.0</td>\n",
       "      <td>46.0</td>\n",
       "      <td>19.0</td>\n",
       "      <td>143.0</td>\n",
       "      <td>160.0</td>\n",
       "      <td>309.0</td>\n",
       "      <td>127.0</td>\n",
       "      <td>63.0</td>\n",
       "      <td>6.0</td>\n",
       "      <td>10.0</td>\n",
       "      <td>199.0</td>\n",
       "      <td>207.0</td>\n",
       "      <td>van</td>\n",
       "    </tr>\n",
       "    <tr>\n",
       "      <th>4</th>\n",
       "      <td>85.0</td>\n",
       "      <td>44.0</td>\n",
       "      <td>70.0</td>\n",
       "      <td>205.0</td>\n",
       "      <td>103.0</td>\n",
       "      <td>52.0</td>\n",
       "      <td>149.0</td>\n",
       "      <td>45.0</td>\n",
       "      <td>19.0</td>\n",
       "      <td>144.0</td>\n",
       "      <td>241.0</td>\n",
       "      <td>325.0</td>\n",
       "      <td>188.0</td>\n",
       "      <td>127.0</td>\n",
       "      <td>9.0</td>\n",
       "      <td>11.0</td>\n",
       "      <td>180.0</td>\n",
       "      <td>183.0</td>\n",
       "      <td>bus</td>\n",
       "    </tr>\n",
       "  </tbody>\n",
       "</table>\n",
       "</div>"
      ],
      "text/plain": [
       "   compactness  circularity  distance_circularity  radius_ratio  \\\n",
       "0         95.0         48.0                  83.0         178.0   \n",
       "1         91.0         41.0                  84.0         141.0   \n",
       "2        104.0         50.0                 106.0         209.0   \n",
       "3         93.0         41.0                  82.0         159.0   \n",
       "4         85.0         44.0                  70.0         205.0   \n",
       "\n",
       "   pr_axis_aspect_ratio  max_length_aspect_ratio  scatter_ratio  \\\n",
       "0                  72.0                     10.0          162.0   \n",
       "1                  57.0                      9.0          149.0   \n",
       "2                  66.0                     10.0          207.0   \n",
       "3                  63.0                      9.0          144.0   \n",
       "4                 103.0                     52.0          149.0   \n",
       "\n",
       "   elongatedness  pr_axis_rectangularity  max_length_rectangularity  \\\n",
       "0           42.0                    20.0                      159.0   \n",
       "1           45.0                    19.0                      143.0   \n",
       "2           32.0                    23.0                      158.0   \n",
       "3           46.0                    19.0                      143.0   \n",
       "4           45.0                    19.0                      144.0   \n",
       "\n",
       "   scaled_variance_major_axis  scaled_variance_minor_axis  \\\n",
       "0                       176.0                       379.0   \n",
       "1                       170.0                       330.0   \n",
       "2                       223.0                       635.0   \n",
       "3                       160.0                       309.0   \n",
       "4                       241.0                       325.0   \n",
       "\n",
       "   scaled_radius_gyration  skewness_major_axis  skewness_minor_axis  \\\n",
       "0                   184.0                 70.0                  6.0   \n",
       "1                   158.0                 72.0                  9.0   \n",
       "2                   220.0                 73.0                 14.0   \n",
       "3                   127.0                 63.0                  6.0   \n",
       "4                   188.0                127.0                  9.0   \n",
       "\n",
       "   kurtosis_minor_axis  kurtosis_major_axis  hollows_ratio vehicle_class  \n",
       "0                 16.0                187.0          197.0           van  \n",
       "1                 14.0                189.0          199.0           van  \n",
       "2                  9.0                188.0          196.0          saab  \n",
       "3                 10.0                199.0          207.0           van  \n",
       "4                 11.0                180.0          183.0           bus  "
      ]
     },
     "execution_count": null,
     "metadata": {},
     "output_type": "execute_result"
    }
   ],
   "source": [
    "# The dataset is stored as a CSV file and loaded as a data table.\n",
    "# Below, we see the first 5 rows of the dataset."
   ]
  },
  {
   "cell_type": "markdown",
   "metadata": {},
   "source": [
    "* It shows that there are 18 independent variables (compactness, circularity, distance_circularity, radius_ratio, pr.axis_aspect_ratio, max.length_aspect_ratio, scatter_ratio, elongatedness, pr.axis_rectangularity, max.length_rectangularity, scaled_variance, scaled_variance.1, scaled_radius_of_gyration, scaled_radius_of_gyration.1, skewness_about, skewness_about.1, skewness_about.2, hollows_ratio) and one dependent variable (vehicle_class).\n",
    "\n",
    "* Only the class variable is non numeric others are numeric."
   ]
  },
  {
   "cell_type": "markdown",
   "metadata": {},
   "source": [
    "---"
   ]
  },
  {
   "cell_type": "markdown",
   "metadata": {},
   "source": [
    "## Proposed solution\n",
    "\n",
    "To find the best machine learning model for the above dataset, we will use Cross-Validation and Hyperparameter optimization for model selection. This approach is also named Nested Cross-Validation.\n",
    "\n",
    "Cross-Validation also referred to as out of sampling technique is an essential element of a data science project. It is a resampling procedure used to evaluate machine learning models and access how the model will perform for an independent test dataset.\n",
    "\n",
    "Hyperparameter optimization or tuning is a process of choosing a set of hyperparameters for a machine learning algorithm that performs best for a particular dataset.\n",
    "\n",
    "Model selection without nested cross-validation uses the same data to tune model parameters and evaluate model performance that may lead to an optimistically biased evaluation of the model. We get a poor estimation of errors in training or test data due to information leakage. To overcome this problem, Nested Cross-Validation comes into the picture."
   ]
  },
  {
   "cell_type": "markdown",
   "metadata": {},
   "source": [
    "---"
   ]
  },
  {
   "cell_type": "markdown",
   "metadata": {},
   "source": [
    "## Let's create a Machine Learning Pipeline with the Proactive Jupyter Kernel\n",
    "\n",
    "The ActiveEon Jupyter Kernel adds a kernel backend to Jupyter.\n",
    "\n",
    "This kernel interfaces directly with the ProActive scheduler and constructs tasks and workflows to execute them on the fly.\n",
    "\n",
    "With this interface, users can run their code locally and test it using a native python kernel, and by a simple switch to ProActive kernel, run it on remote public or private infrastructures without having to modify the code.\n",
    "\n",
    "See https://github.com/ow2-proactive/proactive-jupyter-kernel for more information."
   ]
  },
  {
   "cell_type": "markdown",
   "metadata": {},
   "source": [
    "As a quick start, we recommend the user to run the `#%help()` pragma using the following script:"
   ]
  },
  {
   "cell_type": "code",
   "execution_count": 1,
   "metadata": {
    "collapsed": true,
    "jupyter": {
     "outputs_hidden": true
    }
   },
   "outputs": [
    {
     "name": "stdout",
     "output_type": "stream",
     "text": [
      "\n",
      "#%connect(): connects to an ActiveEon server\n",
      "#%import(): import specified libraries to all tasks of a same script language\n",
      "#%configure(): configures the ProActive kernel's behavior\n",
      "#%task(): creates/modifies a task\n",
      "#%delete_task(): removes a task from the workflow\n",
      "#%pre_script(): sets the pre-script of a task\n",
      "#%post_script(): sets the post-script of a task\n",
      "#%selection_script(): sets the selection script of a task\n",
      "#%job_selection_script(): sets the default selection script of a job\n",
      "#%fork_env(): sets the fork environment script\n",
      "#%job_fork_env(): sets the default fork environment of a job\n",
      "#%runtime_env(): sets the default runtime environment of a job\n",
      "#%split(): creates/modifies a splitting task of a replicate control\n",
      "#%runs(): creates/modifies the configuration script of a replicate control\n",
      "#%process(): creates/modifies the script of a replicated processing task\n",
      "#%merge(): creates/modifies a merging task of a replicate control\n",
      "#%start(): creates/modifies a start task of a loop control\n",
      "#%loop(): creates/modifies a loop task of a loop control\n",
      "#%condition(): creates/modifies the condition script of a branch/loop control\n",
      "#%branch(): creates/modifies a branch task of a branching control\n",
      "#%if(): creates/modifies an if task of a branching control\n",
      "#%else(): creates/modifies an else task of a branching control\n",
      "#%continuation(): creates/modifies a continuation task of a branching control\n",
      "#%job(): creates/renames the job\n",
      "#%draw_job(): plots the workflow\n",
      "#%write_dot(): writes the workflow in .dot format\n",
      "#%import_dot(): imports the workflow from a .dot file\n",
      "#%submit_job(): submits the job to the scheduler\n",
      "#%get_job_result(): gets and prints the job results\n",
      "#%get_task_result(): gets and prints the results of a given task\n",
      "#%print_job_output(): gets and prints the job outputs\n",
      "#%print_task_output(): gets and prints the outputs of a given task\n",
      "#%list_submitted_jobs(): gets and prints the ids and names of the submitted jobs\n",
      "#%export_xml(): exports the workflow in .xml format\n",
      "#%show_resource_manager(): opens the ActiveEon resource manager portal\n",
      "#%show_scheduling_portal(): opens the ActiveEon scheduling portal\n",
      "#%show_workflow_automation(): opens the ActiveEon workflow automation portal\n",
      "\n",
      "To know the usage of a pragma use: #%help(pragma=PRAGMA_NAME)\n",
      "\n",
      "For more information, please check: https://github.com/ow2-proactive/proactive-jupyter-kernel/blob/master/README.md\n"
     ]
    }
   ],
   "source": [
    "#%help()"
   ]
  },
  {
   "cell_type": "markdown",
   "metadata": {},
   "source": [
    "## 1. Connection\n",
    "\n",
    "The first step is to connect to the ProActive scheduler.\n",
    "\n",
    "If you are trying ProActive for the first time, sign up on the [try platform](https://try.activeeon.com/signup.html).\n",
    "\n",
    "Once you receive your login and password, connect to the trial platform using the `#%connect()` pragma.\n",
    "\n",
    "For more information, type: `#%help(pragma=connect)`"
   ]
  },
  {
   "cell_type": "code",
   "execution_count": 2,
   "metadata": {
    "collapsed": true,
    "jupyter": {
     "outputs_hidden": true
    }
   },
   "outputs": [
    {
     "name": "stdin",
     "output_type": "stream",
     "text": [
      "Login:  admin\n",
      "Password:  ············\n"
     ]
    },
    {
     "name": "stdout",
     "output_type": "stream",
     "text": [
      "Connecting to server ...\n",
      "Connected as 'admin'!\n"
     ]
    }
   ],
   "source": [
    "#%connect(url=https://try.activeeon.com:8443)"
   ]
  },
  {
   "cell_type": "markdown",
   "metadata": {},
   "source": [
    "## 2. Runtime environment definition\n",
    "\n",
    "For this notebook, we will use a docker image, named [activeeon/dlm3](https://hub.docker.com/r/activeeon/dlm3/), with all software stack (machine learning frameworks, libraries and toolkits) to ensure a consistent environment for execution. Docker images are portable as it encapsulates everything that is required to run an application."
   ]
  },
  {
   "cell_type": "markdown",
   "metadata": {},
   "source": [
    "<img src=\"images/container_ai_libraries.png\" alt=\"drawing\" style=\"width:250px;\"/>"
   ]
  },
  {
   "cell_type": "markdown",
   "metadata": {},
   "source": [
    "The `#%runtime_env()` pragma enable user to define the runtime environment for pipeline execution.\n",
    "\n",
    "The user can select the container type (docker, podman, singularity), the container image, and mount local directories inside container.\n",
    "\n",
    "For more information, type: `#%help(pragma=runtime_env)`"
   ]
  },
  {
   "cell_type": "code",
   "execution_count": 3,
   "metadata": {},
   "outputs": [
    {
     "name": "stdout",
     "output_type": "stream",
     "text": [
      "Saving the runtime environment ...\n",
      "Done.\n"
     ]
    }
   ],
   "source": [
    "#%runtime_env(type=docker,image=activeeon/dlm3,mount_host_path=/shared,mount_container_path=/shared,debug=false,verbose=false,force=off)"
   ]
  },
  {
   "cell_type": "markdown",
   "metadata": {},
   "source": [
    "## 3. Importing libraries\n",
    "\n",
    "Now, let's import all packages needed to run the notebook.\n",
    "\n",
    "The main difference between the ProActive and 'native language' kernels resides in the way the memory is accessed\n",
    "during blocks execution. In a common native language kernel, the whole script code (all the notebook blocks) is\n",
    "locally executed in the same shared memory space; whereas the ProActive kernel will execute each created task in an\n",
    "independent process. In order to facilitate the transition from native language to ProActive kernels, we included the\n",
    "pragma `#%import()`. This pragma gives the user the ability to add libraries that are common to all created tasks, and\n",
    "thus relative distributed processes, that are implemented in the same native script language.\n",
    "\n",
    "The import pragma is used as follows:\n",
    "\n",
    "`#%import([language=SCRIPT_LANGUAGE])`.\n",
    "\n",
    "Example:\n",
    "\n",
    "```python\n",
    "#%import(language=Python)\n",
    "import os\n",
    "import pandas\n",
    "```\n",
    "\n",
    "NOTE: If the language is not specified, Python is considered as default language."
   ]
  },
  {
   "cell_type": "code",
   "execution_count": 4,
   "metadata": {},
   "outputs": [
    {
     "name": "stdout",
     "output_type": "stream",
     "text": [
      "Saving 'Python' imports ...\n",
      "Saved.\n"
     ]
    }
   ],
   "source": [
    "#%import()\n",
    "import json\n",
    "import numpy as np\n",
    "import pandas as pd\n",
    "import pickle\n",
    "import bz2\n",
    "import random\n",
    "\n",
    "from sklearn.svm import SVC\n",
    "from sklearn.ensemble import RandomForestClassifier\n",
    "from sklearn.linear_model import LogisticRegression\n",
    "from sklearn.model_selection import RandomizedSearchCV, cross_val_score, KFold\n",
    "from scipy.stats import uniform\n",
    "\n",
    "from tensorboardX import SummaryWriter\n",
    "from pathlib import Path"
   ]
  },
  {
   "cell_type": "markdown",
   "metadata": {},
   "source": [
    "## 4. Creating tasks"
   ]
  },
  {
   "cell_type": "markdown",
   "metadata": {},
   "source": [
    "### 4.1 Creating the _import-data_ task\n",
    "\n",
    "This task is used to load the dataset and transfer to the next task to train a machine learning algorithm using nested cross validation."
   ]
  },
  {
   "cell_type": "code",
   "execution_count": 5,
   "metadata": {},
   "outputs": [
    {
     "name": "stdout",
     "output_type": "stream",
     "text": [
      "Creating a proactive 'Python' task ...\n",
      "Task 'import-data' created.\n",
      "Adding default selection script to the proactive task ...\n",
      "Adding job fork environment to the proactive task ...\n",
      "Adding exporting variables script ...\n",
      "Adding 'Python' library imports ...\n",
      "Done.\n"
     ]
    }
   ],
   "source": [
    "#%task(name=import-data,export=[dataframe_json])\n",
    "dataset_url = \"https://activeeon-public.s3.eu-west-2.amazonaws.com/datasets/vehicle_silhouette_weka_dataset.csv\"\n",
    "dataframe = pd.read_csv(dataset_url)\n",
    "\n",
    "dataframe_json = dataframe.to_json(orient='split').encode()\n",
    "compressed_data = bz2.compress(dataframe_json)"
   ]
  },
  {
   "cell_type": "markdown",
   "metadata": {},
   "source": [
    "### 4.2 Creating the _nested-cross-validation_ task \n",
    "\n",
    "Nested Cross-Validation (Nested-CV) nests cross-validation and hyperparameter tuning. It is used to evaluate the performance of a machine learning algorithm and also estimates the generalization error of the underlying model and its hyperparameter search.\n",
    "\n",
    "Both Cross-Validation and Hyperparameter Optimization is an important aspect of a data science project. Cross-validation is used to evaluate the performance of a machine learning algorithm and Hyperparameter tuning is used to find the best set of hyperparameters for that machine learning algorithm.\n",
    "\n",
    "The Nested-CV has an inner loop CV nested in an outer CV. The inner loop is responsible for model selection/hyperparameter tuning (similar to validation set), while the outer loop is for error estimation (test set)."
   ]
  },
  {
   "cell_type": "markdown",
   "metadata": {},
   "source": [
    "![alt text](images/nested_cv.png \"Title\")"
   ]
  },
  {
   "cell_type": "markdown",
   "metadata": {},
   "source": [
    "In this notebook, we will run 3 Nested-CV in parallel (**runs=3 in the #%task pragma**) to evaluate the performance of the following machine learning algorithms:\n",
    "* Logistic Regression\n",
    "* Support Vector Machine\n",
    "* Random Forest\n",
    "\n",
    "For each Nested-CV, we have:\n",
    "* The inner loop is repeated 10 times(**n_splits = 10 for inner_cv**), generating ten different data sets used for hyperparameter tuning.\n",
    "* Then, the outer loop is repeated 10 times(**n_splits = 10 for outer_cv**), generating ten different test sets to evaluate the model performance.\n",
    "\n",
    "The main advantage of using `#%task(...,runs=3)` is the possibility to distribute the computation on different machines.\n",
    "\n",
    "Note that you must have a shared folder (`/shared` for this notebook) visible by the compute nodes to store the Tensorboard metrics."
   ]
  },
  {
   "cell_type": "code",
   "execution_count": 6,
   "metadata": {},
   "outputs": [
    {
     "name": "stdout",
     "output_type": "stream",
     "text": [
      "Creating a proactive 'Python' task ...\n",
      "Task 'nested-cross-validation' created.\n",
      "Adding default selection script to the proactive task ...\n",
      "Adding job fork environment to the proactive task ...\n",
      "Dependence 'import-data'==>'nested-cross-validation' added.\n",
      "Adding importing variables script ...\n",
      "Adding exporting variables script ...\n",
      "Adding 'Python' library imports ...\n",
      "Adding REPLICATE control ...\n",
      "Done.\n"
     ]
    }
   ],
   "source": [
    "#%task(name=nested-cross-validation,dep=[import-data],import=[dataframe_json],export=[nested_scores_json],runs=3)\n",
    "dataframe = pd.read_json(dataframe_json, orient='split')\n",
    "\n",
    "label_column = \"vehicle_class\"\n",
    "dataframe_train = dataframe.drop(label_column, axis=1, inplace=False)\n",
    "dataframe_label = dataframe[label_column]\n",
    "\n",
    "# Set up the list of algorithms to optimize over\n",
    "algs = []\n",
    "algs.append(LogisticRegression(solver='saga', tol=1e-2, max_iter=200, random_state=random.randint(0,9)))\n",
    "algs.append(SVC(kernel=\"rbf\", random_state=random.randint(0,9)))\n",
    "algs.append(RandomForestClassifier(random_state=random.randint(0,9)))\n",
    "\n",
    "# Set up possible values of parameters for each algorithm to optimize over\n",
    "distributions = []\n",
    "distributions.append(dict(C=uniform(loc=0, scale=4), penalty=['l2', 'l1']))\n",
    "distributions.append({\"C\": [0.1, 1, 10, 100], \"gamma\": [0.001, 0.01, 0.1, 1.0]})\n",
    "distributions.append({\"n_estimators\": [10, 25, 50, 100, 150, 300, 500], \"max_features\": [2, 4, 6, 8, 10]})\n",
    "\n",
    "# Get the current index of the task\n",
    "# Each algorithm (and its parameters distribution) is addressed by the current task index\n",
    "alg_idx = 0\n",
    "if 'variables' in globals():\n",
    "    PA_TRIAL_ID = int(variables.get(\"PA_TASK_REPLICATION\")) # or PA_TASK_ID\n",
    "    alg_idx = PA_TRIAL_ID\n",
    "alg_name = str(algs[alg_idx])\n",
    "alg_name = alg_name[:alg_name.find('(')]\n",
    "\n",
    "# Choose cross-validation techniques for the inner and outer loops,\n",
    "# independently of the dataset.\n",
    "# E.g \"GroupKFold\", \"LeaveOneOut\", \"LeaveOneGroupOut\", etc.\n",
    "inner_cv = KFold(n_splits=10, shuffle=True, random_state=random.randint(0,9))\n",
    "outer_cv = KFold(n_splits=10, shuffle=True, random_state=random.randint(0,9))\n",
    "\n",
    "# Non_nested parameter search and scoring\n",
    "# The Scikit-learn package provides comes with GridSearchCV and RandomSearchCV implementation.\n",
    "# These searching techniques return the best machine learning model by tuning the given parameters.\n",
    "# The inner-CV is applied to the (k-1) folds or groups dataset from the outer CV. \n",
    "# The set of parameters are optimized using RandomSearchCV and is then used to configure the model.\n",
    "# The best model returned from RandomSearchCV (or GridSearchCV) is then evaluated using the last fold or group.\n",
    "# This method is repeated k times (k=10 for this example), and the final CV score is computed by taking the mean of all k scores.\n",
    "print(alg_name, \" performing inner cv...\")\n",
    "search = RandomizedSearchCV(estimator=algs[alg_idx], param_distributions=distributions[alg_idx], cv=inner_cv)\n",
    "search.fit(dataframe_train, dataframe_label)\n",
    "model = search.best_estimator_\n",
    "score = search.best_score_\n",
    "params = search.best_params_\n",
    "# print(alg_name, \" *innercv-model: \",  model)\n",
    "print(alg_name, \" *innercv-score: \",  score)\n",
    "print(alg_name, \" *innercv-params: \",  params)\n",
    "\n",
    "# Nested CV with parameter optimization\n",
    "print(alg_name, \" performing outer cv...\")\n",
    "nested_scores = cross_val_score(model, X=dataframe_train, y=dataframe_label, cv=outer_cv)\n",
    "\n",
    "# Save scores on Tensorboard\n",
    "print(alg_name, \" transfering nested scores to Tensorboard...\")\n",
    "if 'variables' in globals():\n",
    "    PA_JOB_ID = int(variables.get(\"PA_JOB_ID\"))\n",
    "    TENSORBOARD_LOG_PATH = \"/shared/tensorboard/job_id_\" + str(PA_JOB_ID) + \"_\" + alg_name\n",
    "else:\n",
    "    TENSORBOARD_LOG_PATH = \"./logs/\" + alg_name\n",
    "Path(TENSORBOARD_LOG_PATH).mkdir(parents=True, exist_ok=True)\n",
    "writer = SummaryWriter(TENSORBOARD_LOG_PATH)\n",
    "for idx, nested_score in enumerate(nested_scores):\n",
    "    writer.add_scalar(alg_name, nested_score, idx)\n",
    "writer.close()\n",
    "\n",
    "# save the model to disk\n",
    "filename = 'models/' + alg_name + '.model'\n",
    "if 'variables' in globals():\n",
    "    MODELS_BASE_PATH = '/shared/models/job_id_'+str(PA_JOB_ID)\n",
    "    Path(MODELS_BASE_PATH).mkdir(parents=True, exist_ok=True)\n",
    "    filename = MODELS_BASE_PATH + '/' + alg_name + '.model'\n",
    "pickle.dump(model, open(filename, 'wb'))\n",
    "print(alg_name, \" stored model at \", filename)\n",
    "\n",
    "nested_scores_json = json.dumps({\"alg_name\": alg_name, \"nested_scores\": nested_scores.tolist()})\n",
    "result = nested_scores_json"
   ]
  },
  {
   "cell_type": "markdown",
   "metadata": {},
   "source": [
    "### 4.3 Creating the _download-best-model_ task \n",
    "\n",
    "This task compute the best algorithm score from the 3 parallel executions of Nested Cross Validation.\n",
    "\n",
    "At the end, it selects the best model as task result.\n",
    "\n",
    "Setting the task parameter `precious_result=true` enable model download from the Proactive Web Portals."
   ]
  },
  {
   "cell_type": "code",
   "execution_count": 7,
   "metadata": {},
   "outputs": [
    {
     "name": "stdout",
     "output_type": "stream",
     "text": [
      "Creating a proactive 'Python' task ...\n",
      "Task 'download-best-model' created.\n",
      "Adding default selection script to the proactive task ...\n",
      "Adding job fork environment to the proactive task ...\n",
      "Dependence 'nested-cross-validation'==>'download-best-model' added.\n",
      "Adding 'Python' library imports ...\n",
      "Done.\n"
     ]
    }
   ],
   "source": [
    "#%task(name=download-best-model,dep=[nested-cross-validation],precious_result=true)\n",
    "if 'results' in globals():\n",
    "    best_alg = None\n",
    "    best_score = None\n",
    "    mean_vector = np.zeros(len(results))\n",
    "    for i, result in enumerate(results):\n",
    "        res = json.loads(str(result))\n",
    "        alg_name = res['alg_name']\n",
    "        nested_scores = np.array(res['nested_scores'])\n",
    "        mean_vector[i] = nested_scores.mean()\n",
    "        if i == 0:\n",
    "            best_alg = alg_name\n",
    "            best_score = mean_vector[i]\n",
    "        else:\n",
    "            if mean_vector[i] > best_score:\n",
    "                best_score = mean_vector[i]\n",
    "                best_alg = alg_name\n",
    "        print(\"{} average of {:6f} with std. dev. of {:6f}.\".format(alg_name, mean_vector[i], nested_scores.std()))\n",
    "        # print(\"trial {:d} average of {:6f} with std. dev. of {:6f}.\".format(i, mean_vector[i], nested_scores.std()))\n",
    "    # print(\"global average {:6f}\".format(mean_vector.mean()))\n",
    "    print(\"\\n\\nThe best score is {:6f} from {}\".format(best_score, best_alg))\n",
    "else:\n",
    "    print(alg_name)\n",
    "    print(\"nested cross-validation scores:\\n\", nested_scores)\n",
    "    print(\"average of {:6f} with std. dev. of {:6f}.\".format(nested_scores.mean(), nested_scores.std()))\n",
    "\n",
    "# enable download of the best model on proactive web portal\n",
    "if 'variables' in globals():\n",
    "    PA_JOB_ID = int(variables.get(\"PA_JOB_ID\"))\n",
    "    MODELS_BASE_PATH = '/shared/models/job_id_'+str(PA_JOB_ID)\n",
    "    filename = MODELS_BASE_PATH + '/' + best_alg + '.model'\n",
    "    print(\"\\nLoading \", filename, \" for download\")\n",
    "    with open(filename, \"rb\") as binary_file:\n",
    "        file_bin = binary_file.read()\n",
    "    assert file_bin is not None\n",
    "    result = file_bin\n",
    "    resultMetadata.put(\"file.extension\", \".model\")\n",
    "    resultMetadata.put(\"file.name\", filename)\n",
    "    resultMetadata.put(\"content.type\", \"application/octet-stream\")"
   ]
  },
  {
   "cell_type": "markdown",
   "metadata": {},
   "source": [
    "### 5. Visualizing the job pipeline"
   ]
  },
  {
   "cell_type": "code",
   "execution_count": 8,
   "metadata": {},
   "outputs": [
    {
     "name": "stdout",
     "output_type": "stream",
     "text": [
      "Creating the job workflow ...\n",
      "Workflow created.\n",
      "Plotting ...\n"
     ]
    },
    {
     "data": {
      "image/png": "[encoded data removed]"
     },
     "metadata": {},
     "output_type": "display_data"
    }
   ],
   "source": [
    "#%draw_job()"
   ]
  },
  {
   "cell_type": "markdown",
   "metadata": {},
   "source": [
    "### 6. Submitting the job to the scheduler\n",
    "\n",
    "To submit the job to the ProActive Scheduler, the user has to use the `#%submit_job()` pragma:\n",
    "\n",
    "```python\n",
    "#%submit_job()\n",
    "```\n",
    "\n",
    "If the job is not created, or is not up-to-date, the `#%submit_job()` creates a new job named as the old one.\n",
    "To provide a new name, use the same pragma and provide a name as parameter:\n",
    "\n",
    "```python\n",
    "#%submit_job([name=JOB_NAME])\n",
    "```\n",
    "\n",
    "If the job's name is not set, the ProActive kernel uses the current notebook name, if possible, or gives a random one."
   ]
  },
  {
   "cell_type": "code",
   "execution_count": 9,
   "metadata": {},
   "outputs": [
    {
     "name": "stdout",
     "output_type": "stream",
     "text": [
      "Checking REPLICATE controls validity ...\n",
      "Validated.\n",
      "Creating a proactive job ...\n",
      "Job 'ML_Pipeline_Tensorboard_Example' created.\n",
      "Adding the created tasks to 'ML_Pipeline_Tensorboard_Example' ...\n",
      "Done.\n",
      "Submitting the job to the proactive scheduler ...\n",
      "job_id: 1\n"
     ]
    }
   ],
   "source": [
    "#%submit_job(name=ML_Pipeline_Tensorboard_Example)"
   ]
  },
  {
   "cell_type": "markdown",
   "metadata": {},
   "source": [
    "*Generated workflow after job submission*\n",
    "\n",
    "<img src=\"images/generated_workflow.png\" alt=\"drawing\" style=\"width:250px;\"/>"
   ]
  },
  {
   "cell_type": "markdown",
   "metadata": {},
   "source": [
    "### 7. Getting results and outputs\n",
    "\n",
    "After the execution of a ProActive workflow, two outputs can be obtained,\n",
    "* results: values that have been saved in the \n",
    "[task result variable](https://doc.activeeon.com/latest/user/ProActiveUserGuide.html#_task_result),\n",
    "* console outputs: classic outputs that have been displayed/printed \n",
    "\n",
    "To get task results, please use the `#%get_task_result()` pragma by providing the task name, and either the job ID or\n",
    "the job name:\n",
    "\n",
    "```python\n",
    "#%get_task_result([job_id=JOB_ID], [job_name=JOB_NAME], task_name=TASK_NAME)\n",
    "```\n",
    "\n",
    "The result(s) of all the tasks of a job can be obtained with the `#%get_job_result()` pragma, by providing the job name\n",
    "or the job ID:\n",
    "\n",
    "```python\n",
    "#%get_job_result([job_id=JOB_ID], [job_name=JOB_NAME])\n",
    "```\n",
    "\n",
    "To get and display console outputs of a task, you can use the `#%print_task_output()` pragma in the following\n",
    "way:\n",
    "\n",
    "```python\n",
    "#%print_task_output([job_id=JOB_ID], [job_name=JOB_NAME], task_name=TASK_NAME)\n",
    "```\n",
    "\n",
    "Finally, the  `#%print_job_output()` pragma allows to print all job outputs, by providing the job name or the job ID:\n",
    "\n",
    "```python\n",
    "#%print_job_output([job_id=JOB_ID], [job_name=JOB_NAME])\n",
    "```\n",
    "\n",
    "NOTE: If neither `job_name` nor the `job_id` are provided, the last submitted job is selected by default. "
   ]
  },
  {
   "cell_type": "code",
   "execution_count": 10,
   "metadata": {},
   "outputs": [
    {
     "name": "stdout",
     "output_type": "stream",
     "text": [
      "Getting job 1 console outputs ...\n",
      "Outputs:\n",
      "LogisticRegression  performing inner cv...\n",
      "LogisticRegression  *innercv-score:  0.6632913165266107\n",
      "LogisticRegression  *innercv-params:  {'C': 1.9871489413548091, 'penalty': 'l1'}\n",
      "LogisticRegression  performing outer cv...\n",
      "LogisticRegression  transfering nested scores to Tensorboard...\n",
      "LogisticRegression  stored model at  /shared/models/job_id_92/LogisticRegression.model\n",
      "\n",
      "SVC  performing inner cv...\n",
      "SVC  *innercv-score:  0.7269607843137255\n",
      "SVC  *innercv-params:  {'gamma': 0.001, 'C': 10}\n",
      "SVC  performing outer cv...\n",
      "SVC  transfering nested scores to Tensorboard...\n",
      "SVC  stored model at  /shared/models/job_id_92/SVC.model\n",
      "\n",
      "RandomForestClassifier  performing inner cv...\n",
      "RandomForestClassifier  *innercv-score:  0.7622829131652662\n",
      "RandomForestClassifier  *innercv-params:  {'n_estimators': 25, 'max_features': 6}\n",
      "RandomForestClassifier  performing outer cv...\n",
      "RandomForestClassifier  transfering nested scores to Tensorboard...\n",
      "RandomForestClassifier  stored model at  /shared/models/job_id_92/RandomForestClassifier.model\n",
      "\n",
      "LogisticRegression average of 0.663291 with std. dev. of 0.042000.\n",
      "SVC average of 0.725854 with std. dev. of 0.037366.\n",
      "RandomForestClassifier average of 0.757633 with std. dev. of 0.033816.\n",
      "\n",
      "The best score is 0.757633 from RandomForestClassifier"
     ]
    }
   ],
   "source": [
    "#%print_job_output"
   ]
  },
  {
   "cell_type": "markdown",
   "metadata": {},
   "source": [
    "**Illustration of Tensorboard results after 3 job executions**\n",
    "\n",
    "Note that *random_state* is not static, it changes every job execution showing different results.\n",
    "\n",
    "<img src=\"images/tensorboard-metrics-ex.png\" alt=\"drawing\"/>"
   ]
  }
 ],
 "metadata": {
  "kernelspec": {
   "display_name": "ProActive",
   "language": "python",
   "name": "proactive"
  },
  "language_info": {
   "codemirror_mode": "python",
   "file_extension": ".py",
   "mimetype": "text/x-python",
   "name": "python"
  }
 },
 "nbformat": 4,
 "nbformat_minor": 4
}
